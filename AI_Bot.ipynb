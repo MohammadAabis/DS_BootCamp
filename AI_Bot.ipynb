{
 "cells": [
  {
   "cell_type": "code",
   "execution_count": null,
   "id": "6af4e30b-2ea8-4491-b076-f507754d8c30",
   "metadata": {},
   "outputs": [],
   "source": []
  },
  {
   "cell_type": "code",
   "execution_count": null,
   "id": "bb8805a5-f585-40b1-862e-46a800086d36",
   "metadata": {},
   "outputs": [],
   "source": [
    "import speech_recognition as sr\n",
    "from gtts import gTTS\n",
    "import os\n",
    "from azure.ai.inference import ChatCompletionsClient\n",
    "from azure.ai.inference.models import UserMessage, AssistantMessage\n",
    "from azure.core.credentials import AzureKeyCredential\n",
    "\n",
    "# Azure Configuration\n",
    "endpoint = \"https://models.github.ai/inference\"\n",
    "model_name = \"microsoft/Phi-4\"\n",
    "token = \"my_token\"\n",
    "\n",
    "client = ChatCompletionsClient(\n",
    "    endpoint=endpoint,\n",
    "    credential=AzureKeyCredential(token),\n",
    ")\n",
    "\n",
    "recognizer = sr.Recognizer()\n",
    "chat_history = []\n",
    "\n",
    "print(\"Start speaking to your AI assistant. Say 'stop listening' to exit.\\n\")\n",
    "\n",
    "while True:\n",
    "    try:\n",
    "        # Speech-to-Text\n",
    "        with sr.Microphone() as source:\n",
    "            print(\"Say something...\")\n",
    "            audio = recognizer.listen(source)\n",
    "            user_input = recognizer.recognize_google(audio)\n",
    "            print(\"You said:\", user_input)\n",
    "\n",
    "        # Exit condition\n",
    "        if user_input.lower() == \"stop listening\":\n",
    "            print(\"Exiting chat.\")\n",
    "            break\n",
    "\n",
    "        # Add user message to chat history\n",
    "        chat_history.append(UserMessage(content=user_input))\n",
    "\n",
    "        # Send input to model\n",
    "        response = client.complete(\n",
    "            messages=chat_history,\n",
    "            temperature=1.0,\n",
    "            top_p=1.0,\n",
    "            max_tokens=1000,\n",
    "            model=model_name\n",
    "        )\n",
    "\n",
    "        # Get AI response\n",
    "        response_text = response.choices[0].message.content\n",
    "        print(\"Assistant:\", response_text)\n",
    "\n",
    "        # Add AI response to history\n",
    "        chat_history.append(AssistantMessage(content=response_text))\n",
    "\n",
    "        # Text-to-Speech\n",
    "        language = 'en'\n",
    "        tts = gTTS(text=response_text, lang=language, slow=False)\n",
    "        filename = \"response.mp3\"\n",
    "        tts.save(filename)\n",
    "        os.system(f\"start {filename}\")\n",
    "\n",
    "        # Delete the mp3 file after playback\n",
    "        print(\"Cleaning up the audio file...\")\n",
    "        os.remove(filename)\n",
    "\n",
    "    except sr.UnknownValueError:\n",
    "        print(\"Sorry, I couldn't understand your speech.\")\n",
    "    except KeyboardInterrupt:\n",
    "        print(\"Keyboard interrupt detected. Exiting chat.\")\n",
    "        break\n",
    "    except Exception as e:\n",
    "        print(f\"An error occurred: {e}\")\n",
    "        break"
   ]
  },
  {
   "cell_type": "code",
   "execution_count": null,
   "id": "ce2a4790-1a38-491e-a89b-956bc0dea2c4",
   "metadata": {},
   "outputs": [],
   "source": [
    "!pip uninstall pyttsx3"
   ]
  },
  {
   "cell_type": "code",
   "execution_count": null,
   "id": "573ba600-10c8-48f5-a4ee-9abb4e7e1205",
   "metadata": {},
   "outputs": [],
   "source": [
    "!pip uninstall pytt"
   ]
  }
 ],
 "metadata": {
  "kernelspec": {
   "display_name": "Python 3 (ipykernel)",
   "language": "python",
   "name": "python3"
  },
  "language_info": {
   "codemirror_mode": {
    "name": "ipython",
    "version": 3
   },
   "file_extension": ".py",
   "mimetype": "text/x-python",
   "name": "python",
   "nbconvert_exporter": "python",
   "pygments_lexer": "ipython3",
   "version": "3.13.1"
  }
 },
 "nbformat": 4,
 "nbformat_minor": 5
}
