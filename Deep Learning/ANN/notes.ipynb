{
 "cells": [
  {
   "cell_type": "markdown",
   "id": "5d553dd2",
   "metadata": {},
   "source": [
    "#### Artificial Neural Network (ANN):\n",
    "##### A network of multiple interconnected neurons (which can be perceptrons or, more commonly, more advanced neurons like sigmoid or ReLU neurons) organized in layers.\n",
    "##### ANN is best for tabular data. \n",
    "##### It is not good for images because Flattening a 2D image into a 1D vector for the ANN input can lead to a loss of spatial relationships between pixels, making it harder to recognize patterns.  \n",
    "##### Dealing with high-dimensional image data (e.g., RGB images) can result in a large number of parameters, making the ANN more complex and computationally expensive to train. \n",
    "##### Perceptron to ANN: We moved because perceptron was not able to solve non-linear data. \n",
    "#### Usage: \n",
    "##### Classification: (spam / not spam)\n",
    "##### Regression: Predicting continuous values (e.g., house prices, stock prices, temperature) "
   ]
  },
  {
   "cell_type": "markdown",
   "id": "182ecaf4",
   "metadata": {},
   "source": []
  }
 ],
 "metadata": {
  "language_info": {
   "name": "python"
  }
 },
 "nbformat": 4,
 "nbformat_minor": 5
}
