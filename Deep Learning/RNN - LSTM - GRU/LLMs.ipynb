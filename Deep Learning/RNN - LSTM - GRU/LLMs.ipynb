{
 "cells": [
  {
   "cell_type": "markdown",
   "id": "cde26987",
   "metadata": {},
   "source": [
    "### Large Language Model (LLM):\n",
    "##### A deep learning model, that is trained on massive amounts of text data. This training allows LLMs to understand, generate, and translate human language, as well as perform other natural language processing tasks. \n",
    "##### It is basically used for sequence to sequence text generation.\n",
    "##### 1- Text SUmmarization.\n",
    "##### 2- Questions / Answers.\n",
    "##### 3- Chatbots.\n",
    "##### 4- Speech to text.\n",
    "\n",
    "### Generative Pre-training Transformer (GPT):\n",
    "##### It is trained by using books, websites on internet and many more.\n",
    "##### GPT himself is a model but ChatGPT is an application like chatbot. So, ChatGPT is an application of GPT model.\n",
    "\n",
    "#### To make ChatGPT:\n",
    "##### 1- Reinforcement Learning from Human Feedback (RLHF):\n",
    "##### --> They used supervised fine tuning like gmail etc.\n",
    "##### --> Reinforcement Learning.\n",
    "##### 2- Improvement in context point:\n",
    "##### 3- Dialogue specific training:\n",
    "##### --> Supervised fine tuned on conversations and dialogues.\n",
    "##### 4- Continously improved by human feedbacks.\n",
    "\n",
    "##### In ChatGPT, Tokenization, embedding, and positional encoding are all parallel operations."
   ]
  },
  {
   "cell_type": "markdown",
   "id": "a52fe727",
   "metadata": {},
   "source": []
  }
 ],
 "metadata": {
  "language_info": {
   "name": "python"
  }
 },
 "nbformat": 4,
 "nbformat_minor": 5
}
