{
 "cells": [
  {
   "cell_type": "markdown",
   "id": "9f9ce301",
   "metadata": {},
   "source": [
    "### Questions 1\n",
    "\n",
    "Create a matrix of 5x5 with random integers, after that swap its first and last rows."
   ]
  },
  {
   "cell_type": "code",
   "execution_count": 6,
   "id": "87f74edf",
   "metadata": {},
   "outputs": [
    {
     "name": "stdout",
     "output_type": "stream",
     "text": [
      "[[28 41 15  3 96]\n",
      " [62  8 62 72 81]\n",
      " [55 61 66 23 26]\n",
      " [24 24 80 37 93]\n",
      " [42 61 24 24 50]]\n",
      "==============================\n",
      "[[42 61 24 24 50]\n",
      " [62  8 62 72 81]\n",
      " [55 61 66 23 26]\n",
      " [24 24 80 37 93]\n",
      " [42 61 24 24 50]]\n"
     ]
    }
   ],
   "source": [
    "import numpy as np\n",
    "\n",
    "matrix = np.random.randint(1, 101, size=(5, 5))\n",
    "print(matrix)\n",
    "print(\"==============================\")\n",
    "# matrix[[0, -1]] = matrix[[-1, 0]]\n",
    "matrix[0] = matrix[-1]\n",
    "matrix[-1] = matrix[0]\n",
    "print(matrix)"
   ]
  },
  {
   "cell_type": "markdown",
   "id": "b30c058f",
   "metadata": {},
   "source": [
    "### Question 2\n",
    "\n",
    "Create a 2D array, remove all rows that contain at least one zero."
   ]
  },
  {
   "cell_type": "code",
   "execution_count": 21,
   "id": "80f1930b",
   "metadata": {},
   "outputs": [
    {
     "name": "stdout",
     "output_type": "stream",
     "text": [
      "[[1 2 3]\n",
      " [4 0 6]\n",
      " [7 8 9]]\n",
      "[[1 2 3]\n",
      " [7 8 9]]\n"
     ]
    }
   ],
   "source": [
    "array = np.array([\n",
    "    [1, 2, 3],\n",
    "    [4, 0, 6],\n",
    "    [7, 8, 9]\n",
    "])\n",
    "print(array)\n",
    "\n",
    "filtered_arr = array[~np.any(array == 0, axis=1)]\n",
    "print(filtered_arr)"
   ]
  },
  {
   "cell_type": "markdown",
   "id": "c0080795",
   "metadata": {},
   "source": [
    "### Question 3\n",
    "\n",
    "Write a NumPy program to find the real and imaginary parts of an array of complex numbers.<br>\n",
    "Original array [ 1.00000000+0.j 0.70710678+0.70710678j]"
   ]
  },
  {
   "cell_type": "code",
   "execution_count": 23,
   "id": "af38b9ed",
   "metadata": {},
   "outputs": [
    {
     "name": "stdout",
     "output_type": "stream",
     "text": [
      "Original array: [1.        +0.j         0.70710678+0.70710678j]\n",
      "Real parts: [1.         0.70710678]\n",
      "Imaginary parts: [0.         0.70710678]\n"
     ]
    }
   ],
   "source": [
    "complex_array = np.array([1.00000000+0.j, 0.70710678+0.70710678j])\n",
    "\n",
    "# Extract real and imaginary parts\n",
    "real_part = complex_array.real\n",
    "imaginary_part = complex_array.imag\n",
    "\n",
    "print(\"Original array:\", complex_array)\n",
    "print(\"Real parts:\", real_part)\n",
    "print(\"Imaginary parts:\", imaginary_part)"
   ]
  },
  {
   "cell_type": "markdown",
   "id": "8df5066c",
   "metadata": {},
   "source": [
    "### Question 4\n",
    "\n",
    "Write a NumPy program to remove the duplicate elements of an array.<br>\n",
    "Original array:\n",
    "[10 10 20 20 30 30]\n"
   ]
  },
  {
   "cell_type": "code",
   "execution_count": 6,
   "id": "5971c90f",
   "metadata": {},
   "outputs": [
    {
     "data": {
      "text/plain": [
       "array([10, 20, 30])"
      ]
     },
     "execution_count": 6,
     "metadata": {},
     "output_type": "execute_result"
    }
   ],
   "source": [
    "arr = np.array([10,10, 20, 20, 30, 30])\n",
    "removed = np.unique(arr)\n",
    "removed"
   ]
  },
  {
   "cell_type": "markdown",
   "id": "92c56bbb",
   "metadata": {},
   "source": [
    "### Question 5\n",
    "\n",
    "Write a NumPy program to create a 3x3x3 array with random values."
   ]
  },
  {
   "cell_type": "code",
   "execution_count": 3,
   "id": "f098848c",
   "metadata": {},
   "outputs": [
    {
     "name": "stdout",
     "output_type": "stream",
     "text": [
      "[ 0  1  2  3  4  5  6  7  8  9 10 11 12 13 14 15 16 17 18 19 20 21 22 23\n",
      " 24 25 26]\n",
      "[[[ 0  1  2]\n",
      "  [ 3  4  5]\n",
      "  [ 6  7  8]]\n",
      "\n",
      " [[ 9 10 11]\n",
      "  [12 13 14]\n",
      "  [15 16 17]]\n",
      "\n",
      " [[18 19 20]\n",
      "  [21 22 23]\n",
      "  [24 25 26]]]\n"
     ]
    }
   ],
   "source": [
    "array = np.arange((27))\n",
    "print(array)\n",
    "new_array = array.reshape(3,3,3)\n",
    "print(new_array)"
   ]
  },
  {
   "cell_type": "markdown",
   "id": "95af246b",
   "metadata": {},
   "source": [
    "### Question 6\n",
    "\n",
    "Write a NumPy program to create a random vector of size 10 and sort it.<br>\n",
    "<b>Note:</b> Do not use builtin sorting function"
   ]
  },
  {
   "cell_type": "code",
   "execution_count": 20,
   "id": "b1c3d232",
   "metadata": {},
   "outputs": [
    {
     "name": "stdout",
     "output_type": "stream",
     "text": [
      "[61  1 90 10 16 88 50 66 87 97]\n"
     ]
    },
    {
     "data": {
      "text/plain": [
       "array([ 1, 10, 16, 50, 61, 66, 87, 88, 90, 97], dtype=int32)"
      ]
     },
     "execution_count": 20,
     "metadata": {},
     "output_type": "execute_result"
    }
   ],
   "source": [
    "vector = np.random.randint(1, 100, size=10)\n",
    "print(vector)\n",
    "\n",
    "sorted_vect = np.sort(vector)\n",
    "sorted_vect"
   ]
  },
  {
   "cell_type": "markdown",
   "id": "020caeec",
   "metadata": {},
   "source": [
    "### Question 7\n",
    "\n",
    "Write a NumPy program to check two random arrays are equal or not."
   ]
  },
  {
   "cell_type": "code",
   "execution_count": 22,
   "id": "0efe83b0",
   "metadata": {},
   "outputs": [
    {
     "data": {
      "text/plain": [
       "False"
      ]
     },
     "execution_count": 22,
     "metadata": {},
     "output_type": "execute_result"
    }
   ],
   "source": [
    "arr1 = np.random.randint(0, 10, size=(2, 2))\n",
    "arr2 = np.random.randint(0, 10, size=(3, 3))\n",
    "\n",
    "checked = np.array_equal(arr1,arr2)\n",
    "checked"
   ]
  },
  {
   "cell_type": "markdown",
   "id": "7e596e19",
   "metadata": {},
   "source": [
    "### Question 8 \n",
    "\n",
    "Write a NumPy program to sort a given array of shape 2 along the first axis, last axis and on flattened array.<br>\n",
    "\n",
    "Original array:<br>\n",
    "[[10 40]<br>\n",
    "[30 20]]"
   ]
  },
  {
   "cell_type": "code",
   "execution_count": 24,
   "id": "4a059f89",
   "metadata": {},
   "outputs": [
    {
     "name": "stdout",
     "output_type": "stream",
     "text": [
      "Original array:\n",
      " [[10 40]\n",
      " [30 20]]\n",
      "\n",
      "Sorted along the first axis (rows):\n",
      " [[10 20]\n",
      " [30 40]]\n",
      "\n",
      "Sorted along the last axis (columns):\n",
      " [[10 40]\n",
      " [20 30]]\n",
      "\n",
      "Sorted flattened array:\n",
      " [10 20 30 40]\n"
     ]
    }
   ],
   "source": [
    "arr = np.array([[10, 40], [30, 20]])\n",
    "\n",
    "# Sort along the first axis (rows)\n",
    "sorted_first_axis = np.sort(arr, axis=0)\n",
    "\n",
    "# Sort along the last axis (columns)\n",
    "sorted_last_axis = np.sort(arr, axis=1)\n",
    "\n",
    "# Sort the flattened array\n",
    "sorted_flattened = np.sort(arr.flatten())\n",
    "\n",
    "print(\"Original array:\\n\", arr)\n",
    "print(\"\\nSorted along the first axis (rows):\\n\", sorted_first_axis)\n",
    "print(\"\\nSorted along the last axis (columns):\\n\", sorted_last_axis)\n",
    "print(\"\\nSorted flattened array:\\n\", sorted_flattened)"
   ]
  },
  {
   "cell_type": "markdown",
   "id": "6e79b9ba",
   "metadata": {},
   "source": [
    "### Question 9\n",
    "\n",
    "Write a NumPy program to get the floor, ceiling and truncated values of the elements of a numpy array.<br>\n",
    "\n",
    "Original array:<br>\n",
    "[-1.6 -1.5 -0.3 0.1 1.4 1.8 2. ]"
   ]
  },
  {
   "cell_type": "code",
   "execution_count": 25,
   "id": "29b33dd8",
   "metadata": {},
   "outputs": [
    {
     "name": "stdout",
     "output_type": "stream",
     "text": [
      "Original array:\n",
      " [-1.6 -1.5 -0.3  0.1  1.4  1.8  2. ]\n",
      "\n",
      "Floor values:\n",
      " [-2. -2. -1.  0.  1.  1.  2.]\n",
      "\n",
      "Ceiling values:\n",
      " [-1. -1. -0.  1.  2.  2.  2.]\n",
      "\n",
      "Truncated values:\n",
      " [-1. -1. -0.  0.  1.  1.  2.]\n"
     ]
    }
   ],
   "source": [
    "arr = np.array([-1.6, -1.5, -0.3, 0.1, 1.4, 1.8, 2.0])\n",
    "\n",
    "floor_values = np.floor(arr)\n",
    "ceiling_values = np.ceil(arr)\n",
    "truncated_values = np.trunc(arr)\n",
    "\n",
    "print(\"Original array:\\n\", arr)\n",
    "print(\"\\nFloor values:\\n\", floor_values)\n",
    "print(\"\\nCeiling values:\\n\", ceiling_values)\n",
    "print(\"\\nTruncated values:\\n\", truncated_values)"
   ]
  },
  {
   "cell_type": "markdown",
   "id": "2e05575a",
   "metadata": {},
   "source": [
    "### Questions 10\n",
    "\n",
    "Write a NumPy program to display all the dates for the month of March, 2017"
   ]
  },
  {
   "cell_type": "code",
   "execution_count": 24,
   "id": "73515756",
   "metadata": {},
   "outputs": [
    {
     "data": {
      "text/plain": [
       "array(['2017-03-01', '2017-03-02', '2017-03-03', '2017-03-04',\n",
       "       '2017-03-05', '2017-03-06', '2017-03-07', '2017-03-08',\n",
       "       '2017-03-09', '2017-03-10', '2017-03-11', '2017-03-12',\n",
       "       '2017-03-13', '2017-03-14', '2017-03-15', '2017-03-16',\n",
       "       '2017-03-17', '2017-03-18', '2017-03-19', '2017-03-20',\n",
       "       '2017-03-21', '2017-03-22', '2017-03-23', '2017-03-24',\n",
       "       '2017-03-25', '2017-03-26', '2017-03-27', '2017-03-28',\n",
       "       '2017-03-29', '2017-03-30', '2017-03-31'], dtype='datetime64[D]')"
      ]
     },
     "execution_count": 24,
     "metadata": {},
     "output_type": "execute_result"
    }
   ],
   "source": [
    "dates = np.arange('2017-03-01', '2017-04-01', dtype='datetime64[D]')\n",
    "dates"
   ]
  },
  {
   "cell_type": "markdown",
   "id": "19a63fe8",
   "metadata": {},
   "source": [
    "### Question 11\n",
    "\n",
    "Write a NumPy program to create 24 python datetime.datetime objects (single object for every hour), and then put it in a numpy array."
   ]
  },
  {
   "cell_type": "code",
   "execution_count": 27,
   "id": "71eb7ce3",
   "metadata": {},
   "outputs": [
    {
     "name": "stdout",
     "output_type": "stream",
     "text": [
      "[datetime.datetime(2025, 4, 22, 0, 0) datetime.datetime(2025, 4, 22, 1, 0)\n",
      " datetime.datetime(2025, 4, 22, 2, 0) datetime.datetime(2025, 4, 22, 3, 0)\n",
      " datetime.datetime(2025, 4, 22, 4, 0) datetime.datetime(2025, 4, 22, 5, 0)\n",
      " datetime.datetime(2025, 4, 22, 6, 0) datetime.datetime(2025, 4, 22, 7, 0)\n",
      " datetime.datetime(2025, 4, 22, 8, 0) datetime.datetime(2025, 4, 22, 9, 0)\n",
      " datetime.datetime(2025, 4, 22, 10, 0)\n",
      " datetime.datetime(2025, 4, 22, 11, 0)\n",
      " datetime.datetime(2025, 4, 22, 12, 0)\n",
      " datetime.datetime(2025, 4, 22, 13, 0)\n",
      " datetime.datetime(2025, 4, 22, 14, 0)\n",
      " datetime.datetime(2025, 4, 22, 15, 0)\n",
      " datetime.datetime(2025, 4, 22, 16, 0)\n",
      " datetime.datetime(2025, 4, 22, 17, 0)\n",
      " datetime.datetime(2025, 4, 22, 18, 0)\n",
      " datetime.datetime(2025, 4, 22, 19, 0)\n",
      " datetime.datetime(2025, 4, 22, 20, 0)\n",
      " datetime.datetime(2025, 4, 22, 21, 0)\n",
      " datetime.datetime(2025, 4, 22, 22, 0)\n",
      " datetime.datetime(2025, 4, 22, 23, 0)]\n"
     ]
    }
   ],
   "source": [
    "import datetime\n",
    "\n",
    "start_time = np.datetime64('2025-04-22T00:00')\n",
    "hours = np.arange(24)\n",
    "datetime_array = start_time + np.array(hours, dtype='timedelta64[h]')\n",
    "python_datetime_array = datetime_array.astype(datetime.datetime)\n",
    "print(python_datetime_array)"
   ]
  },
  {
   "cell_type": "markdown",
   "id": "d6a69230",
   "metadata": {},
   "source": [
    "### Question 12\n",
    "\n",
    "Write a NumPy program to concatenate element-wise two arrays of string.<br>\n",
    "<b>Example </b>\n",
    "Array1:<br>\n",
    "['Python' 'PHP']<br>\n",
    "Array2:<br>\n",
    "[' Java' ' C++']<br>\n",
    "new array:<br>\n",
    "['Python Java' 'PHP C++']<br>"
   ]
  },
  {
   "cell_type": "code",
   "execution_count": 33,
   "id": "399470d8",
   "metadata": {},
   "outputs": [
    {
     "name": "stdout",
     "output_type": "stream",
     "text": [
      "['PythonJavaC++' 'PHPJavaC++'] "
     ]
    }
   ],
   "source": [
    "arr1 = np.array(['Python' ,'PHP'])\n",
    "arr2 = np.array(['Java' 'C++'])\n",
    "new = np.char.add(arr1,arr2)\n",
    "print(new, end=' ')"
   ]
  },
  {
   "cell_type": "code",
   "execution_count": null,
   "id": "179bbcb3",
   "metadata": {},
   "outputs": [],
   "source": []
  }
 ],
 "metadata": {
  "kernelspec": {
   "display_name": "venv",
   "language": "python",
   "name": "python3"
  },
  "language_info": {
   "codemirror_mode": {
    "name": "ipython",
    "version": 3
   },
   "file_extension": ".py",
   "mimetype": "text/x-python",
   "name": "python",
   "nbconvert_exporter": "python",
   "pygments_lexer": "ipython3",
   "version": "3.12.10"
  }
 },
 "nbformat": 4,
 "nbformat_minor": 5
}
