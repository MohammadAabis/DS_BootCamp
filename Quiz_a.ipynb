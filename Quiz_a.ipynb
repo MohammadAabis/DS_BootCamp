{
 "cells": [
  {
   "cell_type": "markdown",
   "id": "d31dbf86",
   "metadata": {},
   "source": [
    "## 📝 **Quiz: String and List Manipulation**\n",
    "\n",
    "### **Question 1: Reverse Words in a String**\n",
    "\n",
    "**Description:**  \n",
    "Write a function that takes a string input and returns a new string with the words in reverse order. The function should split the string by spaces and reverse the order of the words.\n",
    "\n",
    "**Input:**  \n",
    "```python\n",
    "A = 'this is test'\n",
    "```\n",
    "\n",
    "**Expected Output:**  \n",
    "```python\n",
    "'test is this'\n",
    "```\n",
    "\n",
    "**Test Case:**\n",
    "```python\n",
    "A = 'this is test'\n",
    "output = reverse_words(A)\n",
    "print(output)  # Expected: 'test is this'\n",
    "```"
   ]
  },
  {
   "cell_type": "code",
   "execution_count": 1,
   "id": "5a6f3673",
   "metadata": {},
   "outputs": [
    {
     "name": "stdout",
     "output_type": "stream",
     "text": [
      "['test', 'is', 'this']\n"
     ]
    }
   ],
   "source": [
    "def reverse_string(strr):\n",
    "    list1 = strr.split()\n",
    "    return list1[::-1]\n",
    "    \n",
    "print(reverse_string('this is test'))"
   ]
  },
  {
   "cell_type": "code",
   "execution_count": null,
   "id": "cd3b37b6",
   "metadata": {},
   "outputs": [],
   "source": []
  },
  {
   "cell_type": "markdown",
   "id": "5f6177be",
   "metadata": {},
   "source": [
    "### **Question 2: Check Palindromes in a List**\n",
    "\n",
    "**Description:**  \n",
    "Given a list of elements, write a function that returns a new list containing only the elements that are palindromes. Consider strings and integers only. Ignore nested lists or other data types.\n",
    "\n",
    "**Input:**  \n",
    "```python\n",
    "A = ['mom', 123, ['abba'], 'test']\n",
    "```"
   ]
  },
  {
   "cell_type": "code",
   "execution_count": 2,
   "id": "28f1c9c8",
   "metadata": {},
   "outputs": [
    {
     "name": "stdout",
     "output_type": "stream",
     "text": [
      "['True', 'True', 'False']\n"
     ]
    }
   ],
   "source": [
    "def pallindrom(listt):\n",
    "    result = []\n",
    "    i = len(listt)\n",
    "    for num in listt:\n",
    "        if num[:] == num[::-1]:\n",
    "            result.append('True')\n",
    "        else:\n",
    "            result.append('False')\n",
    "    return result\n",
    "\n",
    "print(pallindrom(['mom', ['abba'], 'test']))"
   ]
  },
  {
   "cell_type": "code",
   "execution_count": null,
   "id": "4593f4cc",
   "metadata": {},
   "outputs": [],
   "source": []
  },
  {
   "cell_type": "markdown",
   "id": "6edc4821",
   "metadata": {},
   "source": [
    "### **Question 3: Reverse an Integer**\n",
    "\n",
    "**Description:**  \n",
    "Write a function that takes an integer as input and returns the integer with its digits reversed.\n",
    "\n",
    "**Input:**  \n",
    "```python\n",
    "a = 123\n",
    "```\n",
    "\n",
    "**Expected Output:**  \n",
    "```python\n",
    "321\n",
    "```\n",
    "\n",
    "**Test Case:**\n",
    "```python\n",
    "a = 123\n",
    "output = reverse_integer(a)\n",
    "print(output)  # Expected: 321\n",
    "```"
   ]
  },
  {
   "cell_type": "code",
   "execution_count": 3,
   "id": "5f2078b3",
   "metadata": {},
   "outputs": [
    {
     "name": "stdout",
     "output_type": "stream",
     "text": [
      "321\n"
     ]
    }
   ],
   "source": [
    "a = '123'\n",
    "\n",
    "print(a[::-1])\n",
    "    \n",
    "    \n",
    "\n"
   ]
  },
  {
   "cell_type": "code",
   "execution_count": 4,
   "id": "5d396ebc-de38-4bda-852e-a8fd3959903d",
   "metadata": {},
   "outputs": [
    {
     "name": "stdout",
     "output_type": "stream",
     "text": [
      "[2002, 2009, 2016, 2023, 2037, 2044, 2051, 2058, 2072, 2079, 2086, 2093, 2107, 2114, 2121, 2128, 2142, 2149, 2156, 2163, 2177, 2184, 2191, 2198, 2212, 2219, 2226, 2233, 2247, 2254, 2261, 2268, 2282, 2289, 2296, 2303, 2317, 2324, 2331, 2338, 2352, 2359, 2366, 2373, 2387, 2394, 2401, 2408, 2422, 2429, 2436, 2443, 2457, 2464, 2471, 2478, 2492, 2499, 2506, 2513, 2527, 2534, 2541, 2548, 2562, 2569, 2576, 2583, 2597, 2604, 2611, 2618, 2632, 2639, 2646, 2653, 2667, 2674, 2681, 2688, 2702, 2709, 2716, 2723, 2737, 2744, 2751, 2758, 2772, 2779, 2786, 2793, 2807, 2814, 2821, 2828, 2842, 2849, 2856, 2863, 2877, 2884, 2891, 2898, 2912, 2919, 2926, 2933, 2947, 2954, 2961, 2968, 2982, 2989, 2996]\n"
     ]
    }
   ],
   "source": [
    "#numbers between 2000 - 3000 divided by 7 but not multiple of 5\n",
    "\n",
    "def check_divisible(num1, num2):\n",
    "    new_list = []\n",
    "    new_list1 = []\n",
    "    for num in range(num1,num2):\n",
    "        if num % 7 == 0:\n",
    "            new_list.append(num)\n",
    "            \n",
    "    for num in  new_list:\n",
    "        if num % 5 != 0:\n",
    "            new_list1.append(num)\n",
    "    return new_list1\n",
    "            \n",
    "\n",
    "\n",
    "print(check_divisible(2000, 3000))"
   ]
  }
 ],
 "metadata": {
  "kernelspec": {
   "display_name": "venv",
   "language": "python",
   "name": "python3"
  },
  "language_info": {
   "codemirror_mode": {
    "name": "ipython",
    "version": 3
   },
   "file_extension": ".py",
   "mimetype": "text/x-python",
   "name": "python",
   "nbconvert_exporter": "python",
   "pygments_lexer": "ipython3",
   "version": "3.12.10"
  }
 },
 "nbformat": 4,
 "nbformat_minor": 5
}
