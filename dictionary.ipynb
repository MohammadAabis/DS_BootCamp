{
 "cells": [
  {
   "cell_type": "markdown",
   "id": "1f48d5c9",
   "metadata": {},
   "source": [
    "# 1. Create a Dictionary from Two Lists\n",
    "\n",
    "## Problem Statement:\n",
    "Write a function to create a dictionary from two lists of equal length, one for keys and one for values.\n",
    "\n",
    "## Example 1:\n",
    "**Input:** `keys = ['a', 'b'], values = [1, 2]`  \n",
    "**Output:** `{'a': 1, 'b': 2}`\n",
    "\n",
    "## Example 2:\n",
    "**Input:** `keys = ['x'], values = [10]`  \n",
    "**Output:** `{'x': 10}`\n"
   ]
  },
  {
   "cell_type": "code",
   "execution_count": 1,
   "id": "3ea65a39",
   "metadata": {},
   "outputs": [
    {
     "name": "stdout",
     "output_type": "stream",
     "text": [
      "{'a': 1, 'b': 2}\n",
      "{'x': 10}\n"
     ]
    }
   ],
   "source": [
    "def create_dictionary(keys, values):\n",
    "    dictionary = {}\n",
    "    if len(keys) == len(values):\n",
    "        for char in range(len(keys)):\n",
    "            dictionary[keys[char]] = values[char]\n",
    "        return dictionary\n",
    "    else:\n",
    "        return\n",
    "\n",
    "print(create_dictionary(['a', 'b'],[1, 2]))\n",
    "print(create_dictionary(['x'],[10]))"
   ]
  },
  {
   "cell_type": "code",
   "execution_count": null,
   "id": "960658e1-f613-47eb-ba51-b65a05c954ed",
   "metadata": {},
   "outputs": [],
   "source": []
  },
  {
   "cell_type": "markdown",
   "id": "9016196e",
   "metadata": {},
   "source": [
    "# 2. Merge Two Dictionaries\n",
    "\n",
    "## Problem Statement:\n",
    "Write a function to merge two dictionaries into one.\n",
    "\n",
    "## Example 1:\n",
    "**Input:** `{'a': 1}, {'b': 2}`  \n",
    "**Output:** `{'a': 1, 'b': 2}`\n",
    "\n",
    "## Example 2:\n",
    "**Input:** `{'x': 10}, {'y': 20, 'z': 30}`  \n",
    "**Output:** `{'x': 10, 'y': 20, 'z': 30}`\n"
   ]
  },
  {
   "cell_type": "code",
   "execution_count": 2,
   "id": "5ee5d659",
   "metadata": {},
   "outputs": [
    {
     "name": "stdout",
     "output_type": "stream",
     "text": [
      "{'a': 1, 'b': 2}\n",
      "{'x': 10, 'y': 20, 'z': 30}\n"
     ]
    }
   ],
   "source": [
    "def merged_dictionary(dict1, dict2):\n",
    "    dictionary = {**dict1, **dict2}\n",
    "    return dictionary\n",
    "print(merged_dictionary({'a': 1} , {'b': 2}))\n",
    "print(merged_dictionary({'x': 10}, {'y': 20, 'z': 30}))"
   ]
  },
  {
   "cell_type": "code",
   "execution_count": null,
   "id": "51bb46bd-b215-44b4-a8e8-d8e05817c958",
   "metadata": {},
   "outputs": [],
   "source": []
  },
  {
   "cell_type": "markdown",
   "id": "c6526c5c",
   "metadata": {},
   "source": [
    "# 3. Check if Key Exists\n",
    "\n",
    "## Problem Statement:\n",
    "Write a function to check if a specific key exists in a dictionary.\n",
    "\n",
    "## Example 1:\n",
    "**Input:** `{'a': 1}, 'a'`  \n",
    "**Output:** `True`\n",
    "\n",
    "## Example 2:\n",
    "**Input:** `{'b': 2}, 'a'`  \n",
    "**Output:** `False`\n"
   ]
  },
  {
   "cell_type": "code",
   "execution_count": 3,
   "id": "a04fa909",
   "metadata": {},
   "outputs": [
    {
     "name": "stdout",
     "output_type": "stream",
     "text": [
      "True\n",
      "False\n"
     ]
    }
   ],
   "source": [
    "def check_keys(dict1, key):\n",
    "    if key in dict1:\n",
    "        return \"True\"\n",
    "    else:\n",
    "        return \"False\"\n",
    "\n",
    "print(check_keys({'a': 2}, 'a'))\n",
    "print(check_keys({'b': 2}, 'a'))"
   ]
  },
  {
   "cell_type": "code",
   "execution_count": null,
   "id": "1259fe90-dc05-49b0-a195-c1328bd3a0b7",
   "metadata": {},
   "outputs": [],
   "source": []
  },
  {
   "cell_type": "markdown",
   "id": "e72c9a22",
   "metadata": {},
   "source": [
    "# 4. Count Frequency of Elements\n",
    "\n",
    "## Problem Statement:\n",
    "Write a function to count the frequency of each element in a list using a dictionary.\n",
    "\n",
    "## Example 1:\n",
    "**Input:** `[1,2,2,3]`  \n",
    "**Output:** `{1:1, 2:2, 3:1}`\n",
    "\n",
    "## Example 2:\n",
    "**Input:** `['a','b','a']`  \n",
    "**Output:** `{'a':2, 'b':1}`\n",
    "\n",
    "\n"
   ]
  },
  {
   "cell_type": "code",
   "execution_count": 4,
   "id": "31fd888e",
   "metadata": {},
   "outputs": [
    {
     "name": "stdout",
     "output_type": "stream",
     "text": [
      "{1: 1, 2: 2, 3: 1}\n",
      "{'a': 2, 'b': 1}\n"
     ]
    }
   ],
   "source": [
    "def count_frequency(list1):\n",
    "    frequency = {}\n",
    "\n",
    "    for char in list1:\n",
    "        if char in frequency:\n",
    "            frequency[char] += 1\n",
    "        else:\n",
    "            frequency[char] = 1\n",
    "    return frequency\n",
    "\n",
    "print(count_frequency([1,2,2,3]))\n",
    "print(count_frequency(['a','b','a']))"
   ]
  },
  {
   "cell_type": "code",
   "execution_count": null,
   "id": "dd14c85c-ec2a-41a1-8e74-4c6a3af986bf",
   "metadata": {},
   "outputs": [],
   "source": []
  },
  {
   "cell_type": "markdown",
   "id": "c1b74aa9",
   "metadata": {},
   "source": [
    "# 5. Reverse Dictionary (Unique Values)\n",
    "\n",
    "## Problem Statement:\n",
    "Write a function to reverse keys and values in a dictionary. Assume values are unique.\n",
    "\n",
    "## Example 1:\n",
    "**Input:** `{'a':1, 'b':2}`  \n",
    "**Output:** `{1:'a', 2:'b'}`\n",
    "\n",
    "## Example 2:\n",
    "**Input:** `{'x':'y'}`  \n",
    "**Output:** `{'y':'x'}`\n"
   ]
  },
  {
   "cell_type": "code",
   "execution_count": 5,
   "id": "df0a31ed",
   "metadata": {},
   "outputs": [
    {
     "name": "stdout",
     "output_type": "stream",
     "text": [
      "{1: 'a', 2: 'b'}\n",
      "{'y': 'x'}\n"
     ]
    }
   ],
   "source": [
    "def reverse_dictionary(dict1):\n",
    "    reversed = {}\n",
    "    \n",
    "    for keys, values in dict1.items():\n",
    "        reversed[values] = keys\n",
    "    return reversed\n",
    "\n",
    "print(reverse_dictionary({'a':1, 'b':2}))\n",
    "print(reverse_dictionary({'x':'y'}))"
   ]
  },
  {
   "cell_type": "code",
   "execution_count": null,
   "id": "ac60bed0-480b-4bdf-b29a-ecb28d0f7f80",
   "metadata": {},
   "outputs": [],
   "source": []
  },
  {
   "cell_type": "markdown",
   "id": "bfc01a37",
   "metadata": {},
   "source": [
    "# 6. Dictionary with Maximum Value\n",
    "\n",
    "## Problem Statement:\n",
    "Write a function that returns the key with the highest value in a dictionary.\n",
    "\n",
    "## Example 1:\n",
    "**Input:** `{'a':3, 'b':10}`  \n",
    "**Output:** `'b'`\n",
    "\n",
    "## Example 2:\n",
    "**Input:** `{'x':1, 'y':-5}`  \n",
    "**Output:** `'x'`\n"
   ]
  },
  {
   "cell_type": "code",
   "execution_count": 11,
   "id": "3ebfad1c",
   "metadata": {},
   "outputs": [
    {
     "name": "stdout",
     "output_type": "stream",
     "text": [
      "b\n",
      "x\n"
     ]
    }
   ],
   "source": [
    "def max_dictionary(dict1):\n",
    "    keys = list(dict1.keys())\n",
    "    max_key = keys[0]\n",
    "    max_value = dict1[max_key]\n",
    "\n",
    "    for num in dict1:\n",
    "        if dict1[num] > max_value:\n",
    "            max_value = dict1[num]\n",
    "            max_key = num\n",
    "    return max_key\n",
    "    \n",
    "    \n",
    "\n",
    "print(max_dictionary({'a':3, 'b':10}))\n",
    "print(max_dictionary({'x':1, 'y':-5}))"
   ]
  },
  {
   "cell_type": "code",
   "execution_count": null,
   "id": "135bd2d9-3fec-4a2a-8594-bc941c7974d5",
   "metadata": {},
   "outputs": [],
   "source": []
  },
  {
   "cell_type": "markdown",
   "id": "2df1f7ab",
   "metadata": {},
   "source": [
    "# 7. Remove Key from Dictionary\n",
    "\n",
    "## Problem Statement:\n",
    "Write a function that removes a specified key from a dictionary.\n",
    "\n",
    "## Example 1:\n",
    "**Input:** `{'a':1, 'b':2}, 'a'`  \n",
    "**Output:** `{'b':2}`\n",
    "\n",
    "## Example 2:\n",
    "**Input:** `{'x':3, 'y':4}, 'z'`  \n",
    "**Output:** `{'x':3, 'y':4}`\n"
   ]
  },
  {
   "cell_type": "code",
   "execution_count": 7,
   "id": "4c042f24",
   "metadata": {},
   "outputs": [
    {
     "name": "stdout",
     "output_type": "stream",
     "text": [
      "{'b': 2}\n",
      "{'x': 3, 'y': 4}\n"
     ]
    }
   ],
   "source": [
    "def remove_dictionary_value(dict1, key):\n",
    "    if key in dict1:\n",
    "        dict1.pop(key)\n",
    "    return dict1\n",
    "\n",
    "print(remove_dictionary_value({'a':1, 'b':2}, 'a'))\n",
    "print(remove_dictionary_value({'x':3, 'y':4}, 'z'))"
   ]
  },
  {
   "cell_type": "code",
   "execution_count": null,
   "id": "f4ec9345-e448-41e2-bd7b-ebfde61461eb",
   "metadata": {},
   "outputs": [],
   "source": []
  },
  {
   "cell_type": "markdown",
   "id": "542b30d7",
   "metadata": {},
   "source": [
    "# 8. Dictionary from String\n",
    "\n",
    "## Problem Statement:\n",
    "Write a function to count the occurrences of each character in a given string using a dictionary.\n",
    "\n",
    "## Example 1:\n",
    "**Input:** `\"hello\"`  \n",
    "**Output:** `{'h':1,'e':1,'l':2,'o':1}`\n",
    "\n",
    "## Example 2:\n",
    "**Input:** `\"abc\"`  \n",
    "**Output:** `{'a':1,'b':1,'c':1}`\n",
    "\n",
    "\n"
   ]
  },
  {
   "cell_type": "code",
   "execution_count": 8,
   "id": "1a0604ff",
   "metadata": {},
   "outputs": [
    {
     "name": "stdout",
     "output_type": "stream",
     "text": [
      "{'h': 1, 'e': 1, 'l': 2, 'o': 1}\n",
      "{'a': 1, 'b': 1, 'c': 1}\n"
     ]
    }
   ],
   "source": [
    "def convert_to_dict(string):\n",
    "    dictionary = {}\n",
    "\n",
    "    for char in string:\n",
    "        if char in dictionary:\n",
    "            dictionary[char] += 1\n",
    "        else:\n",
    "            dictionary [char] = 1\n",
    "    return dictionary\n",
    "\n",
    "print(convert_to_dict(\"hello\"))\n",
    "print(convert_to_dict(\"abc\"))"
   ]
  },
  {
   "cell_type": "code",
   "execution_count": null,
   "id": "1df61d20-c74a-4a5d-b657-6b1cf6202dd3",
   "metadata": {},
   "outputs": [],
   "source": []
  },
  {
   "cell_type": "markdown",
   "id": "b8bb6168",
   "metadata": {},
   "source": [
    "# 9. Update Value in Dictionary\n",
    "\n",
    "## Problem Statement:\n",
    "Write a function to update a value associated with a given key in a dictionary.\n",
    "\n",
    "## Example 1:\n",
    "**Input:** `{'a':1}, 'a', 100`  \n",
    "**Output:** `{'a':100}`\n",
    "\n",
    "## Example 2:\n",
    "**Input:** `{'x':10}, 'y', 20`  \n",
    "**Output:** `{'x':10, 'y':20}`\n"
   ]
  },
  {
   "cell_type": "code",
   "execution_count": 16,
   "id": "7a8a617e",
   "metadata": {},
   "outputs": [
    {
     "name": "stdout",
     "output_type": "stream",
     "text": [
      "{'a': 100}\n",
      "{'x': 10, 'y': 20}\n"
     ]
    }
   ],
   "source": [
    "def update_dict(dict1, key, value):\n",
    "    new_dict = {key:value}\n",
    "    if key in dict1:\n",
    "        dict1[key] = value\n",
    "        return dict1\n",
    "    else:\n",
    "        new_dict = {**dict1 , **new_dict}\n",
    "        return new_dict\n",
    "\n",
    "print(update_dict({'a':1}, 'a', 100))\n",
    "print(update_dict({'x':10}, 'y', 20))"
   ]
  },
  {
   "cell_type": "code",
   "execution_count": null,
   "id": "8be36e65-dbc8-4ad0-bfba-7fdf9f065474",
   "metadata": {},
   "outputs": [],
   "source": []
  },
  {
   "cell_type": "markdown",
   "id": "8b580e88",
   "metadata": {},
   "source": [
    "# 10. Sort Dictionary by Values\n",
    "\n",
    "## Problem Statement:\n",
    "Write a function to sort a dictionary by values in ascending order.\n",
    "\n",
    "## Example 1:\n",
    "**Input:** `{'a':3, 'b':1}`  \n",
    "**Output:** `{'b':1, 'a':3}`\n",
    "\n",
    "## Example 2:\n",
    "**Input:** `{'x':4,'y':2}`  \n",
    "**Output:** `{'y':2, 'x':4}`\n"
   ]
  },
  {
   "cell_type": "code",
   "execution_count": 61,
   "id": "814aa94b-af71-4efb-ba39-b0c701d04e4e",
   "metadata": {},
   "outputs": [
    {
     "name": "stdout",
     "output_type": "stream",
     "text": [
      "{'b': 1, 'a': 3}\n",
      "{'y': 2, 'x': 4}\n"
     ]
    }
   ],
   "source": [
    "def sort_dict(dict1):\n",
    "    new_dict = {}\n",
    "    values = sorted(list(dict1.values()))\n",
    "\n",
    "    for num in values:\n",
    "        for key,value in dict1.items():\n",
    "            if num == value:\n",
    "                new_dict[key] = num\n",
    "    return new_dict\n",
    "\n",
    "print(sort_dict({'a':3, 'b':1}))\n",
    "print(sort_dict({'x':4,'y':2}))"
   ]
  },
  {
   "cell_type": "code",
   "execution_count": null,
   "id": "2f4bc29d-1281-4d08-bde4-53dc1a035739",
   "metadata": {},
   "outputs": [],
   "source": []
  },
  {
   "cell_type": "markdown",
   "id": "923a13f3",
   "metadata": {},
   "source": [
    "# 11. Dictionary Intersection\n",
    "\n",
    "## Problem Statement:\n",
    "Write a function that returns a dictionary containing keys common to two dictionaries with values from the first dictionary.\n",
    "\n",
    "## Example 1:\n",
    "**Input:** `{'a':1, 'b':2}, {'b':4, 'c':3}`  \n",
    "**Output:** `{'b':2}`\n",
    "\n",
    "## Example 2:\n",
    "**Input:** `{'x':5}, {'y':5}`  \n",
    "**Output:** `{}`\n"
   ]
  },
  {
   "cell_type": "code",
   "execution_count": 71,
   "id": "463eed21",
   "metadata": {},
   "outputs": [
    {
     "name": "stdout",
     "output_type": "stream",
     "text": [
      "{'b': 2}\n",
      "{}\n"
     ]
    }
   ],
   "source": [
    "def find_intersection(dict1, dict2):\n",
    "    new_dict = {}\n",
    "    for num1 in dict1:\n",
    "        if num1 in dict2:\n",
    "            new_dict[num1] = dict1[num1]\n",
    "    return new_dict\n",
    "\n",
    "print(find_intersection({'a':1, 'b':2}, {'b':4, 'c':3}))\n",
    "print(find_intersection({'x':5}, {'y':5}))"
   ]
  },
  {
   "cell_type": "code",
   "execution_count": null,
   "id": "aebb17eb-f697-4713-a055-296855796d14",
   "metadata": {},
   "outputs": [],
   "source": []
  },
  {
   "cell_type": "markdown",
   "id": "328b85be",
   "metadata": {},
   "source": [
    "# 14. Filter Dictionary by Values\n",
    "\n",
    "## Problem Statement:\n",
    "Write a function to filter a dictionary, keeping only items where the value is greater than a given number.\n",
    "\n",
    "## Example 1:\n",
    "**Input:** `{'a':5, 'b':2, 'c':8}, 4`  \n",
    "**Output:** `{'a':5, 'c':8}`\n",
    "\n",
    "## Example 2:\n",
    "**Input:** `{'x':1, 'y':3}, 2`  \n",
    "**Output:** `{'y':3}`\n"
   ]
  },
  {
   "cell_type": "code",
   "execution_count": 74,
   "id": "58e19b37",
   "metadata": {},
   "outputs": [
    {
     "name": "stdout",
     "output_type": "stream",
     "text": [
      "{'a': 5, 'c': 8}\n",
      "{'y': 3}\n"
     ]
    }
   ],
   "source": [
    "def filter_dict(dict1, number):\n",
    "    new_dict = {}\n",
    "    \n",
    "    for key, value in dict1.items():\n",
    "        if value > number:\n",
    "            new_dict[key] = value\n",
    "    return new_dict\n",
    "\n",
    "print(filter_dict({'a':5, 'b':2, 'c':8}, 4))\n",
    "print(filter_dict({'x':1, 'y':3}, 2))\n",
    "            "
   ]
  },
  {
   "cell_type": "code",
   "execution_count": null,
   "id": "9d62f595-aef6-4b3e-9e25-3f9995843357",
   "metadata": {},
   "outputs": [],
   "source": []
  },
  {
   "cell_type": "markdown",
   "id": "b37b6bd2",
   "metadata": {},
   "source": [
    "# 16. Dictionary from List of Tuples\n",
    "\n",
    "## Problem Statement:\n",
    "Write a function that converts a list of tuples into a dictionary, combining values for duplicate keys into lists.\n",
    "\n",
    "## Example 1:\n",
    "**Input:** `[('a',1), ('b',2), ('a',3)]`  \n",
    "**Output:** `{'a':[1,3], 'b':[2]}`\n",
    "\n",
    "## Example 2:\n",
    "**Input:** `[('x',4)]`  \n",
    "**Output:** `{'x':[4]}`\n"
   ]
  },
  {
   "cell_type": "code",
   "execution_count": 20,
   "id": "0cabcc36",
   "metadata": {},
   "outputs": [
    {
     "name": "stdout",
     "output_type": "stream",
     "text": [
      "{'a': [1, 3], 'b': [2]}\n",
      "{'x': [4]}\n"
     ]
    }
   ],
   "source": [
    "def tuple_list(list1):\n",
    "    dictionary = {}\n",
    "\n",
    "    for char in list1:\n",
    "        if char[0] in dictionary.keys():            \n",
    "            dictionary[char[0]].append(char[1])\n",
    "        else:\n",
    "            dictionary[char[0]] = [char[1]]\n",
    "    return dictionary\n",
    "            \n",
    "            \n",
    "\n",
    "print(tuple_list([('a',1), ('b',2), ('a',3)]))\n",
    "print(tuple_list([('x',4)]))"
   ]
  },
  {
   "cell_type": "code",
   "execution_count": null,
   "id": "64d9e9bd-e5cb-496e-9755-f7b8de822583",
   "metadata": {},
   "outputs": [],
   "source": []
  },
  {
   "cell_type": "markdown",
   "id": "a2f6a871",
   "metadata": {},
   "source": [
    "# 17. Increment Dictionary Values\n",
    "\n",
    "## Problem Statement:\n",
    "Write a function to increment all integer values in a dictionary by a specified number.\n",
    "\n",
    "## Example 1:\n",
    "**Input:** `{'a':1, 'b':2}, 3`  \n",
    "**Output:** `{'a':4, 'b':5}`\n",
    "\n",
    "## Example 2:\n",
    "**Input:** `{'x':10}, -2`  \n",
    "**Output:** `{'x':8}`\n"
   ]
  },
  {
   "cell_type": "code",
   "execution_count": 19,
   "id": "62cde069-f6f0-4dc6-8bc9-089f2ced7a70",
   "metadata": {},
   "outputs": [
    {
     "name": "stdout",
     "output_type": "stream",
     "text": [
      "{'a': 4, 'b': 5}\n",
      "{'x': 8}\n"
     ]
    }
   ],
   "source": [
    "def increment_dict(dict1, inc):\n",
    "    \n",
    "    for num in dict1:\n",
    "        dict1[num] += inc\n",
    "    return dict1\n",
    "\n",
    "print(increment_dict({'a':1, 'b':2}, 3))\n",
    "print(increment_dict({'x':10}, -2))"
   ]
  },
  {
   "cell_type": "code",
   "execution_count": null,
   "id": "af14a57e-0cc1-4621-be9e-237bf6ce2c6a",
   "metadata": {},
   "outputs": [],
   "source": []
  },
  {
   "cell_type": "markdown",
   "id": "1a4997f3",
   "metadata": {},
   "source": [
    "# 18. Find Duplicates in List Using Dictionary\n",
    "\n",
    "## Problem Statement:\n",
    "Write a function to find all elements that appear more than once in a list, using a dictionary.\n",
    "\n",
    "## Example 1:\n",
    "**Input:** `[1,2,2,3,4,4,4]`  \n",
    "**Output:** `[2,4]`\n",
    "\n",
    "## Example 2:\n",
    "**Input:** `['a','b','c','a']`  \n",
    "**Output:** `['a']`\n"
   ]
  },
  {
   "cell_type": "code",
   "execution_count": 18,
   "id": "9d032675-c1fc-47ce-afb8-51ca4fedaffa",
   "metadata": {},
   "outputs": [
    {
     "name": "stdout",
     "output_type": "stream",
     "text": [
      "[2, 4]\n",
      "['a']\n"
     ]
    }
   ],
   "source": [
    "def find_repeating(list1):\n",
    "    frequency = {}\n",
    "    new_list = []\n",
    "\n",
    "    for num in list1:\n",
    "        if num in frequency:\n",
    "            frequency[num] += 1\n",
    "        else:\n",
    "            frequency[num] = 1\n",
    "\n",
    "    for num in frequency:\n",
    "        if frequency[num] > 1:\n",
    "            new_list.append(num)\n",
    "    return new_list\n",
    "\n",
    "print(find_repeating([1,2,2,3,4,4,4]))\n",
    "print(find_repeating(['a','b','c','a']))"
   ]
  },
  {
   "cell_type": "code",
   "execution_count": null,
   "id": "700a36dc-2fea-4009-9696-d28e3cca26d5",
   "metadata": {},
   "outputs": [],
   "source": []
  },
  {
   "cell_type": "markdown",
   "id": "37dab363",
   "metadata": {},
   "source": [
    "# 19. Merge Dictionaries Summing Values\n",
    "\n",
    "## Problem Statement:\n",
    "Write a function to merge two dictionaries, summing values for common keys.\n",
    "\n",
    "## Example 1:\n",
    "**Input:** `{'a':2, 'b':3}, {'a':3, 'c':1}`  \n",
    "**Output:** `{'a':5, 'b':3, 'c':1}`\n",
    "\n",
    "## Example 2:\n",
    "**Input:** `{'x':1}, {'x':-1}`  \n",
    "**Output:** `{'x':0}`\n"
   ]
  },
  {
   "cell_type": "code",
   "execution_count": 7,
   "id": "e5eca442-f98c-499e-b711-2053080d17a5",
   "metadata": {},
   "outputs": [
    {
     "name": "stdout",
     "output_type": "stream",
     "text": [
      "{'a': 5, 'b': 3, 'c': 1}\n",
      "{'x': 0}\n"
     ]
    }
   ],
   "source": [
    "def sum_common(dict1, dict2):\n",
    "    result = dict1.copy()  \n",
    "    for key, value in dict2.items():\n",
    "        if key in result:\n",
    "            result[key] += value\n",
    "        else:\n",
    "            result[key] = value\n",
    "    return result\n",
    "\n",
    "\n",
    "print(sum_common({'a': 2, 'b': 3}, {'a': 3, 'c': 1}))\n",
    "print(sum_common({'x':1}, {'x':-1}))\n"
   ]
  },
  {
   "cell_type": "code",
   "execution_count": null,
   "id": "f6b073b2",
   "metadata": {},
   "outputs": [],
   "source": []
  },
  {
   "cell_type": "markdown",
   "id": "01937f89",
   "metadata": {},
   "source": [
    "# 20. Dictionary of Lists to Dictionary of Sums\n",
    "\n",
    "## Problem Statement:\n",
    "Write a function to convert a dictionary of lists into a dictionary of sums.\n",
    "\n",
    "## Example 1:\n",
    "**Input:** `{'a':[1,2,3], 'b':[4,5]}`  \n",
    "**Output:** `{'a':6, 'b':9}`\n",
    "\n",
    "## Example 2:\n",
    "**Input:** `{'x':[10]}`  \n",
    "**Output:** `{'x':10}`\n"
   ]
  },
  {
   "cell_type": "code",
   "execution_count": 9,
   "id": "02599144",
   "metadata": {},
   "outputs": [
    {
     "name": "stdout",
     "output_type": "stream",
     "text": [
      "{'a': 6, 'b': 9}\n",
      "{'x': 10}\n"
     ]
    }
   ],
   "source": [
    "def dict_sum(dict1):\n",
    "  values = []\n",
    "\n",
    "  for key in dict1:\n",
    "    sum = 0\n",
    "    values = dict1[key]\n",
    "    for val in values:\n",
    "      sum += val\n",
    "      dict1[key] = sum\n",
    "  return dict1\n",
    "\n",
    "print(dict_sum({'a':[1,2,3], 'b':[4,5]}))\n",
    "print(dict_sum({'x':[10]}))"
   ]
  },
  {
   "cell_type": "code",
   "execution_count": null,
   "id": "b474ce74-716c-4b59-8bf3-1e558a4f1492",
   "metadata": {},
   "outputs": [],
   "source": []
  }
 ],
 "metadata": {
  "kernelspec": {
   "display_name": "Python 3 (ipykernel)",
   "language": "python",
   "name": "python3"
  },
  "language_info": {
   "codemirror_mode": {
    "name": "ipython",
    "version": 3
   },
   "file_extension": ".py",
   "mimetype": "text/x-python",
   "name": "python",
   "nbconvert_exporter": "python",
   "pygments_lexer": "ipython3",
   "version": "3.13.1"
  }
 },
 "nbformat": 4,
 "nbformat_minor": 5
}
